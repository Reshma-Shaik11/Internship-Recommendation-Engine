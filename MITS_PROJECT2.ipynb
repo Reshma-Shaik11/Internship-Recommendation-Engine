{
  "nbformat": 4,
  "nbformat_minor": 0,
  "metadata": {
    "colab": {
      "provenance": []
    },
    "kernelspec": {
      "name": "python3",
      "display_name": "Python 3"
    },
    "language_info": {
      "name": "python"
    }
  },
  "cells": [
    {
      "cell_type": "code",
      "execution_count": 1,
      "metadata": {
        "colab": {
          "base_uri": "https://localhost:8080/"
        },
        "id": "2AKX-defjq4B",
        "outputId": "7af53cff-3a0e-4cb1-9cb9-73067c5679da"
      },
      "outputs": [
        {
          "output_type": "stream",
          "name": "stdout",
          "text": [
            "Top Internship Domain Recommendations:\n",
            "                    Domain                                        Description\n",
            "1             Data Science  Python Machine Learning Data Analysis Statisti...\n",
            "3  Artificial Intelligence        AI Deep Learning Neural Networks NLP Python\n",
            "6        Digital Marketing  SEO SEM Social Media Analytics Campaigns Branding\n"
          ]
        }
      ],
      "source": [
        "\n",
        "# Internship Domain Recommendation Engine using Content-Based Filtering\n",
        "\n",
        "import pandas as pd\n",
        "from sklearn.feature_extraction.text import TfidfVectorizer\n",
        "from sklearn.metrics.pairwise import linear_kernel\n",
        "\n",
        "# Step 1: Internship Domain Data\n",
        "data = {\n",
        "    'Domain': [\n",
        "        'Web Development',\n",
        "        'Data Science',\n",
        "        'Cybersecurity',\n",
        "        'Artificial Intelligence',\n",
        "        'Cloud Computing',\n",
        "        'Mobile App Development',\n",
        "        'Digital Marketing'\n",
        "    ],\n",
        "    'Description': [\n",
        "        'HTML CSS JavaScript Frontend Backend React Node',\n",
        "        'Python Machine Learning Data Analysis Statistics Pandas',\n",
        "        'Network Security Hacking Cryptography Risk Management',\n",
        "        'AI Deep Learning Neural Networks NLP Python',\n",
        "        'AWS Azure DevOps Cloud Architecture Serverless',\n",
        "        'Android iOS Flutter Kotlin Swift Mobile Apps',\n",
        "        'SEO SEM Social Media Analytics Campaigns Branding'\n",
        "    ]\n",
        "}\n",
        "\n",
        "df = pd.DataFrame(data)\n",
        "\n",
        "# Step 2: Vectorize descriptions\n",
        "tfidf = TfidfVectorizer(stop_words='english')\n",
        "tfidf_matrix = tfidf.fit_transform(df['Description'])\n",
        "\n",
        "# Step 3: Simulated User Input\n",
        "user_input = \"I am interested in Python, Machine Learning, and Data Analysis\"\n",
        "user_vec = tfidf.transform([user_input])\n",
        "\n",
        "# Step 4: Compute Similarity and Recommend\n",
        "cosine_sim = linear_kernel(user_vec, tfidf_matrix).flatten()\n",
        "top_indices = cosine_sim.argsort()[-3:][::-1]\n",
        "recommendations = df.iloc[top_indices]\n",
        "\n",
        "# Step 5: Print Recommendations\n",
        "print(\"Top Internship Domain Recommendations:\")\n",
        "print(recommendations[['Domain', 'Description']])\n"
      ]
    }
  ]
}